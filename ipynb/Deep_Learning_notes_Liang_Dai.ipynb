{
  "nbformat": 4,
  "nbformat_minor": 0,
  "metadata": {
    "colab": {
      "name": "Deep Learning notes Liang Dai.ipynb",
      "version": "0.3.2",
      "provenance": [],
      "collapsed_sections": []
    },
    "kernelspec": {
      "name": "python3",
      "display_name": "Python 3"
    },
    "accelerator": "GPU"
  },
  "cells": [
    {
      "metadata": {
        "id": "4JhnZtG99q05",
        "colab_type": "text"
      },
      "cell_type": "markdown",
      "source": [
        "# Deep Learning notes\n",
        "by Liang Dai"
      ]
    },
    {
      "metadata": {
        "id": "-pzaTbBL9uks",
        "colab_type": "text"
      },
      "cell_type": "markdown",
      "source": [
        "## Content"
      ]
    },
    {
      "metadata": {
        "id": "xS_aZd5g-J_Q",
        "colab_type": "text"
      },
      "cell_type": "markdown",
      "source": [
        "* Use tf-nightly in Colab\n",
        "* Mount to Google Drive\n",
        "* Download Ebooks\n",
        "* Plot mutiple plot in a figure"
      ]
    },
    {
      "metadata": {
        "id": "hnTvgnFiAJMs",
        "colab_type": "text"
      },
      "cell_type": "markdown",
      "source": [
        "## Cool website\n",
        "* Tensorflow playground https://playground.tensorflow.org"
      ]
    },
    {
      "metadata": {
        "id": "ITSo5IJbAqOP",
        "colab_type": "text"
      },
      "cell_type": "markdown",
      "source": [
        "## Code"
      ]
    },
    {
      "metadata": {
        "id": "4aOFKVQJ90EU",
        "colab_type": "text"
      },
      "cell_type": "markdown",
      "source": [
        "### Use tf-nightly in Colab"
      ]
    },
    {
      "metadata": {
        "id": "e0S5EnEF9ojI",
        "colab_type": "code",
        "colab": {}
      },
      "cell_type": "code",
      "source": [
        "### tf-nightly is tensorflow develop version\n",
        "!pip uninstall tensorflow -y\n",
        "!pip install --upgrade tf-nightly\n",
        "import tensorflow as tf\n",
        "print(\"tensorflow-nightly version ::: \" + tf.VERSION)"
      ],
      "execution_count": 0,
      "outputs": []
    },
    {
      "metadata": {
        "id": "rV2MlcWC--87",
        "colab_type": "text"
      },
      "cell_type": "markdown",
      "source": [
        "### Mount to Google Drive"
      ]
    },
    {
      "metadata": {
        "id": "rRtqpnSq-_pb",
        "colab_type": "code",
        "colab": {}
      },
      "cell_type": "code",
      "source": [
        "### upload dataset to Gdrive and then mount to Colab \n",
        "from google.colab import drive\n",
        "drive.mount('/content/gdrive')"
      ],
      "execution_count": 0,
      "outputs": []
    },
    {
      "metadata": {
        "id": "bBuELnQdH-_I",
        "colab_type": "text"
      },
      "cell_type": "markdown",
      "source": [
        "### Download Ebooks"
      ]
    },
    {
      "metadata": {
        "id": "qhI8eRD4IJgn",
        "colab_type": "text"
      },
      "cell_type": "markdown",
      "source": [
        "(Check out https://www.gutenberg.org/ for a bunch of free e-books.)"
      ]
    },
    {
      "metadata": {
        "id": "mNerupMwIDsB",
        "colab_type": "code",
        "colab": {}
      },
      "cell_type": "code",
      "source": [
        "### option A\n",
        "### `curl -O` The file name in the URL will be used as the file name to save the output.\n",
        "if not os.path.exists('colors.csv'):\n",
        "  !curl -O 'https://raw.githubusercontent.com/random-forests/datasets/master/colors.csv'\n",
        "  !curl -o colors.csv 'https://raw.githubusercontent.com/random-forests/datasets/master/colors.csv'\n",
        "  !curl 'https://raw.githubusercontent.com/random-forests/datasets/master/colors.csv' > colors.csv \n",
        "\n",
        "### option B\n",
        "if not os.path.exists('46-0.txt'):\n",
        "  !wget 'http://www.gutenberg.org/files/46/46-0.txt'"
      ],
      "execution_count": 0,
      "outputs": []
    },
    {
      "metadata": {
        "id": "Z1Y6u5obBsEB",
        "colab_type": "text"
      },
      "cell_type": "markdown",
      "source": [
        "### Plot mutiple plot in a figure"
      ]
    },
    {
      "metadata": {
        "id": "uOmO7HUe--ux",
        "colab_type": "code",
        "colab": {}
      },
      "cell_type": "code",
      "source": [
        "import matplotlib.pyplot as plt\n",
        "\n",
        "def plot_color(arr, columns, rows): # 2D array, 1-dim is nums of subplot, 2-dim is the plot data as [0], plot title as [1]\n",
        "  fig=plt.figure(figsize=(18, 18)) #figure size \n",
        "  for i in range(1, columns*rows +1): # loop all the subplot\n",
        "      fig.add_subplot(rows, columns, i) # add subplot to the figure\n",
        "      plt.axis('off')\n",
        "      plt.imshow([[arr[i-1][0]]])\n",
        "      plt.title(arr[i-1][1], fontsize=18) # add title\n",
        "  plt.show()"
      ],
      "execution_count": 0,
      "outputs": []
    },
    {
      "metadata": {
        "id": "ZjVNzSMnC6uA",
        "colab_type": "code",
        "colab": {}
      },
      "cell_type": "code",
      "source": [
        ""
      ],
      "execution_count": 0,
      "outputs": []
    }
  ]
}